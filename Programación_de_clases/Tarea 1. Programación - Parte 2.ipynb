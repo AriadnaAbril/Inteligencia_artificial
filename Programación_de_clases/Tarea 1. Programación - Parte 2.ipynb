{
 "cells": [
  {
   "cell_type": "markdown",
   "id": "f28ea32f",
   "metadata": {},
   "source": [
    "# <center> <span style=\"color:Darkcyan\">***Tarea 1. Programación - Descripción variables numéricas***</span> </center>\n",
    "### <center> <span style=\"color:Darkcyan\">***Ariadna Sofía Contreras Abril***</span> </center>\n",
    "### <center> <span style=\"color:Darkcyan\">***Inteligencia artificial***</span> </center>"
   ]
  },
  {
   "cell_type": "markdown",
   "id": "51cb1011",
   "metadata": {},
   "source": [
    "Escriba una clase con las siguientes funcionalidades:\n",
    "1. Al instanciar un objeto, lee un conjunto de datos numéricos. Por ejemplo puede usar el mismo conjunto de datos iris.csv. Instancie los datos en un dataframe de Pandas.\n",
    "2. Implemente un método que calcule las estadísticas descriptivas básicas de cada una de las variables (sepal.length, sepal.width, petal.length, etc)\n",
    "3. Implemente un método que entregue los nombre de las variables disponibles.\n",
    "4. Implemente un método que reciba el nombre de una variable disponible dentro del objeto (en el dataframe) y regrese: sus estadísticas básicas: media, mediana, desviación, percentiles q25, q50, q75 y dibuje un histograma de la distribución de la variable.\n"
   ]
  },
  {
   "cell_type": "code",
   "execution_count": 1,
   "id": "e02b30c9",
   "metadata": {},
   "outputs": [],
   "source": [
    "import pandas as pd\n",
    "import numpy as np\n",
    "import matplotlib.pyplot as plt"
   ]
  },
  {
   "cell_type": "code",
   "execution_count": 11,
   "id": "01d336ff",
   "metadata": {},
   "outputs": [],
   "source": [
    "class Stat:\n",
    "    # La inicialización de la clase Stat ayuda a importar los datos de la ruta especificada en un dataframe y seleccionar \n",
    "    # sus variables numéricas\n",
    "    def __init__(self,ruta):\n",
    "        self.data = pd.read_csv(ruta)._get_numeric_data()\n",
    "        # se elimina la primera columna 'Id' debido a que aunque es una variable numérica no tiene información\n",
    "        # significativa en el análisis\n",
    "        self.data.drop(self.data.columns[0] , axis=1, inplace=True)\n",
    "        self.var = self.data.columns.values\n",
    "        \n",
    "    def Var(self):\n",
    "        # El método Var muestra las variables numéricas disponibles\n",
    "        return print(\"Las variables disponibles son:\\n\" + \",\".join(self.var))\n",
    "            \n",
    "    def Stat_Descrip(self):\n",
    "        # El método Stat_Descrip muestra el resumen descriptivo de todas las variables numéricas\n",
    "        len_data = len(self.var)\n",
    "        # creación de dataframe de medidas descriptivas\n",
    "        columnas = ['Media', 'Mediana', 'Desv. Est.', 'Percentil 25', 'Percentil 75', 'Mínimo', 'Máximo']\n",
    "        self.Estad = pd.DataFrame(columns = columnas)\n",
    "        \n",
    "        for i in range(len_data):\n",
    "            # se crea una variable con los datos de cada variable\n",
    "            var_data = self.data[self.var[i]]\n",
    "            # se calculan estadísticas descriptivas de la variable\n",
    "            x=[np.mean(var_data), np.median(var_data), np.std(var_data), np.percentile(var_data, 25), \n",
    "               np.percentile(var_data, 75), np.min(var_data), np.max(var_data)]\n",
    "            # se añaden al dataframe de medidas descriptivas\n",
    "            self.Estad.loc[i] = x         \n",
    "        \n",
    "        self.Estad.index = self.var\n",
    "        return self.Estad\n",
    "\n",
    "    def Stat_Var(self, nombre):\n",
    "        # se escoge la fila del dataframe de medidas descriptivas respectiva a la variabe deseada\n",
    "        df = self.Estad.iloc[[i for i, num in enumerate(Iris.var) if num == nombre]]\n",
    "        \n",
    "        # HISTOGRAMA DE LA VARIABLE\n",
    "        datos = self.data[nombre]\n",
    "        fig, ax = plt.subplots()\n",
    "        ax.hist(datos, color = \"Darkcyan\")\n",
    "        ax.set_title(nombre)\n",
    "        \n",
    "        return display(df), plt.show(fig)"
   ]
  },
  {
   "cell_type": "code",
   "execution_count": 12,
   "id": "ccb4c4e4",
   "metadata": {},
   "outputs": [
    {
     "data": {
      "text/html": [
       "<div>\n",
       "<style scoped>\n",
       "    .dataframe tbody tr th:only-of-type {\n",
       "        vertical-align: middle;\n",
       "    }\n",
       "\n",
       "    .dataframe tbody tr th {\n",
       "        vertical-align: top;\n",
       "    }\n",
       "\n",
       "    .dataframe thead th {\n",
       "        text-align: right;\n",
       "    }\n",
       "</style>\n",
       "<table border=\"1\" class=\"dataframe\">\n",
       "  <thead>\n",
       "    <tr style=\"text-align: right;\">\n",
       "      <th></th>\n",
       "      <th>SepalLengthCm</th>\n",
       "      <th>SepalWidthCm</th>\n",
       "      <th>PetalLengthCm</th>\n",
       "      <th>PetalWidthCm</th>\n",
       "    </tr>\n",
       "  </thead>\n",
       "  <tbody>\n",
       "    <tr>\n",
       "      <th>0</th>\n",
       "      <td>5.1</td>\n",
       "      <td>3.5</td>\n",
       "      <td>1.4</td>\n",
       "      <td>0.2</td>\n",
       "    </tr>\n",
       "    <tr>\n",
       "      <th>1</th>\n",
       "      <td>4.9</td>\n",
       "      <td>3.0</td>\n",
       "      <td>1.4</td>\n",
       "      <td>0.2</td>\n",
       "    </tr>\n",
       "    <tr>\n",
       "      <th>2</th>\n",
       "      <td>4.7</td>\n",
       "      <td>3.2</td>\n",
       "      <td>1.3</td>\n",
       "      <td>0.2</td>\n",
       "    </tr>\n",
       "    <tr>\n",
       "      <th>3</th>\n",
       "      <td>4.6</td>\n",
       "      <td>3.1</td>\n",
       "      <td>1.5</td>\n",
       "      <td>0.2</td>\n",
       "    </tr>\n",
       "    <tr>\n",
       "      <th>4</th>\n",
       "      <td>5.0</td>\n",
       "      <td>3.6</td>\n",
       "      <td>1.4</td>\n",
       "      <td>0.2</td>\n",
       "    </tr>\n",
       "    <tr>\n",
       "      <th>...</th>\n",
       "      <td>...</td>\n",
       "      <td>...</td>\n",
       "      <td>...</td>\n",
       "      <td>...</td>\n",
       "    </tr>\n",
       "    <tr>\n",
       "      <th>145</th>\n",
       "      <td>6.7</td>\n",
       "      <td>3.0</td>\n",
       "      <td>5.2</td>\n",
       "      <td>2.3</td>\n",
       "    </tr>\n",
       "    <tr>\n",
       "      <th>146</th>\n",
       "      <td>6.3</td>\n",
       "      <td>2.5</td>\n",
       "      <td>5.0</td>\n",
       "      <td>1.9</td>\n",
       "    </tr>\n",
       "    <tr>\n",
       "      <th>147</th>\n",
       "      <td>6.5</td>\n",
       "      <td>3.0</td>\n",
       "      <td>5.2</td>\n",
       "      <td>2.0</td>\n",
       "    </tr>\n",
       "    <tr>\n",
       "      <th>148</th>\n",
       "      <td>6.2</td>\n",
       "      <td>3.4</td>\n",
       "      <td>5.4</td>\n",
       "      <td>2.3</td>\n",
       "    </tr>\n",
       "    <tr>\n",
       "      <th>149</th>\n",
       "      <td>5.9</td>\n",
       "      <td>3.0</td>\n",
       "      <td>5.1</td>\n",
       "      <td>1.8</td>\n",
       "    </tr>\n",
       "  </tbody>\n",
       "</table>\n",
       "<p>150 rows × 4 columns</p>\n",
       "</div>"
      ],
      "text/plain": [
       "     SepalLengthCm  SepalWidthCm  PetalLengthCm  PetalWidthCm\n",
       "0              5.1           3.5            1.4           0.2\n",
       "1              4.9           3.0            1.4           0.2\n",
       "2              4.7           3.2            1.3           0.2\n",
       "3              4.6           3.1            1.5           0.2\n",
       "4              5.0           3.6            1.4           0.2\n",
       "..             ...           ...            ...           ...\n",
       "145            6.7           3.0            5.2           2.3\n",
       "146            6.3           2.5            5.0           1.9\n",
       "147            6.5           3.0            5.2           2.0\n",
       "148            6.2           3.4            5.4           2.3\n",
       "149            5.9           3.0            5.1           1.8\n",
       "\n",
       "[150 rows x 4 columns]"
      ]
     },
     "execution_count": 12,
     "metadata": {},
     "output_type": "execute_result"
    }
   ],
   "source": [
    "Ruta = \"C:/Users/ASUS/OneDrive/Documentos/2023-2/Inteligencia/Iris.csv\"\n",
    "Iris = Stat(Ruta)\n",
    "Iris.data"
   ]
  },
  {
   "cell_type": "code",
   "execution_count": 13,
   "id": "a78e6150",
   "metadata": {},
   "outputs": [
    {
     "data": {
      "text/html": [
       "<div>\n",
       "<style scoped>\n",
       "    .dataframe tbody tr th:only-of-type {\n",
       "        vertical-align: middle;\n",
       "    }\n",
       "\n",
       "    .dataframe tbody tr th {\n",
       "        vertical-align: top;\n",
       "    }\n",
       "\n",
       "    .dataframe thead th {\n",
       "        text-align: right;\n",
       "    }\n",
       "</style>\n",
       "<table border=\"1\" class=\"dataframe\">\n",
       "  <thead>\n",
       "    <tr style=\"text-align: right;\">\n",
       "      <th></th>\n",
       "      <th>Media</th>\n",
       "      <th>Mediana</th>\n",
       "      <th>Desv. Est.</th>\n",
       "      <th>Percentil 25</th>\n",
       "      <th>Percentil 75</th>\n",
       "      <th>Mínimo</th>\n",
       "      <th>Máximo</th>\n",
       "    </tr>\n",
       "  </thead>\n",
       "  <tbody>\n",
       "    <tr>\n",
       "      <th>SepalLengthCm</th>\n",
       "      <td>5.843333</td>\n",
       "      <td>5.80</td>\n",
       "      <td>0.825301</td>\n",
       "      <td>5.1</td>\n",
       "      <td>6.4</td>\n",
       "      <td>4.3</td>\n",
       "      <td>7.9</td>\n",
       "    </tr>\n",
       "    <tr>\n",
       "      <th>SepalWidthCm</th>\n",
       "      <td>3.054000</td>\n",
       "      <td>3.00</td>\n",
       "      <td>0.432147</td>\n",
       "      <td>2.8</td>\n",
       "      <td>3.3</td>\n",
       "      <td>2.0</td>\n",
       "      <td>4.4</td>\n",
       "    </tr>\n",
       "    <tr>\n",
       "      <th>PetalLengthCm</th>\n",
       "      <td>3.758667</td>\n",
       "      <td>4.35</td>\n",
       "      <td>1.758529</td>\n",
       "      <td>1.6</td>\n",
       "      <td>5.1</td>\n",
       "      <td>1.0</td>\n",
       "      <td>6.9</td>\n",
       "    </tr>\n",
       "    <tr>\n",
       "      <th>PetalWidthCm</th>\n",
       "      <td>1.198667</td>\n",
       "      <td>1.30</td>\n",
       "      <td>0.760613</td>\n",
       "      <td>0.3</td>\n",
       "      <td>1.8</td>\n",
       "      <td>0.1</td>\n",
       "      <td>2.5</td>\n",
       "    </tr>\n",
       "  </tbody>\n",
       "</table>\n",
       "</div>"
      ],
      "text/plain": [
       "                  Media  Mediana  Desv. Est.  Percentil 25  Percentil 75  \\\n",
       "SepalLengthCm  5.843333     5.80    0.825301           5.1           6.4   \n",
       "SepalWidthCm   3.054000     3.00    0.432147           2.8           3.3   \n",
       "PetalLengthCm  3.758667     4.35    1.758529           1.6           5.1   \n",
       "PetalWidthCm   1.198667     1.30    0.760613           0.3           1.8   \n",
       "\n",
       "               Mínimo  Máximo  \n",
       "SepalLengthCm     4.3     7.9  \n",
       "SepalWidthCm      2.0     4.4  \n",
       "PetalLengthCm     1.0     6.9  \n",
       "PetalWidthCm      0.1     2.5  "
      ]
     },
     "execution_count": 13,
     "metadata": {},
     "output_type": "execute_result"
    }
   ],
   "source": [
    "Iris.Stat_Descrip()"
   ]
  },
  {
   "cell_type": "code",
   "execution_count": 14,
   "id": "322cfc4d",
   "metadata": {},
   "outputs": [
    {
     "name": "stdout",
     "output_type": "stream",
     "text": [
      "Las variables disponibles son:\n",
      "SepalLengthCm,SepalWidthCm,PetalLengthCm,PetalWidthCm\n"
     ]
    }
   ],
   "source": [
    "Iris.Var()"
   ]
  },
  {
   "cell_type": "code",
   "execution_count": 15,
   "id": "109846b3",
   "metadata": {},
   "outputs": [
    {
     "data": {
      "text/html": [
       "<div>\n",
       "<style scoped>\n",
       "    .dataframe tbody tr th:only-of-type {\n",
       "        vertical-align: middle;\n",
       "    }\n",
       "\n",
       "    .dataframe tbody tr th {\n",
       "        vertical-align: top;\n",
       "    }\n",
       "\n",
       "    .dataframe thead th {\n",
       "        text-align: right;\n",
       "    }\n",
       "</style>\n",
       "<table border=\"1\" class=\"dataframe\">\n",
       "  <thead>\n",
       "    <tr style=\"text-align: right;\">\n",
       "      <th></th>\n",
       "      <th>Media</th>\n",
       "      <th>Mediana</th>\n",
       "      <th>Desv. Est.</th>\n",
       "      <th>Percentil 25</th>\n",
       "      <th>Percentil 75</th>\n",
       "      <th>Mínimo</th>\n",
       "      <th>Máximo</th>\n",
       "    </tr>\n",
       "  </thead>\n",
       "  <tbody>\n",
       "    <tr>\n",
       "      <th>SepalWidthCm</th>\n",
       "      <td>3.054</td>\n",
       "      <td>3.0</td>\n",
       "      <td>0.432147</td>\n",
       "      <td>2.8</td>\n",
       "      <td>3.3</td>\n",
       "      <td>2.0</td>\n",
       "      <td>4.4</td>\n",
       "    </tr>\n",
       "  </tbody>\n",
       "</table>\n",
       "</div>"
      ],
      "text/plain": [
       "              Media  Mediana  Desv. Est.  Percentil 25  Percentil 75  Mínimo  \\\n",
       "SepalWidthCm  3.054      3.0    0.432147           2.8           3.3     2.0   \n",
       "\n",
       "              Máximo  \n",
       "SepalWidthCm     4.4  "
      ]
     },
     "metadata": {},
     "output_type": "display_data"
    },
    {
     "data": {
      "image/png": "[encoded data removed]",
      "text/plain": [
       "<Figure size 432x288 with 1 Axes>"
      ]
     },
     "metadata": {
      "needs_background": "light"
     },
     "output_type": "display_data"
    },
    {
     "data": {
      "text/plain": [
       "(None, None)"
      ]
     },
     "execution_count": 15,
     "metadata": {},
     "output_type": "execute_result"
    }
   ],
   "source": [
    "Iris.Stat_Var('SepalWidthCm')"
   ]
  }
 ],
 "metadata": {
  "kernelspec": {
   "display_name": "Python 3",
   "language": "python",
   "name": "python3"
  },
  "language_info": {
   "codemirror_mode": {
    "name": "ipython",
    "version": 3
   },
   "file_extension": ".py",
   "mimetype": "text/x-python",
   "name": "python",
   "nbconvert_exporter": "python",
   "pygments_lexer": "ipython3",
   "version": "3.8.8"
  }
 },
 "nbformat": 4,
 "nbformat_minor": 5
}
