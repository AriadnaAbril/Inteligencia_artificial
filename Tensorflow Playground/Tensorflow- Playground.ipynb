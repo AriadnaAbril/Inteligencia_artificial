{
 "cells": [
  {
   "cell_type": "markdown",
   "id": "5f28c10f",
   "metadata": {},
   "source": [
    "# <center> <span style=\"color:Darkcyan\">***Jugando con redes neuronales. Tensorflow- Playground***</span> </center>\n",
    "### <center> <span style=\"color:Darkcyan\">***Ariadna Sofía Contreras Abril***</span> </center>\n",
    "### <center> <span style=\"color:Darkcyan\">***Inteligencia artificial***</span> </center>"
   ]
  },
  {
   "cell_type": "markdown",
   "id": "b1f892e4",
   "metadata": {},
   "source": [
    "Página interactiva que permite construir diferentes arquitecturas para resolver diversos problemas, como clasificación o regresión\n",
    "\n",
    "<img src=\"https://miro.medium.com/v2/resize:fit:1199/1*N8UXaiUKWurFLdmEhEHiWg.jpeg\" alt=\"Red neuronal\" width=\"700\"/>"
   ]
  },
  {
   "cell_type": "markdown",
   "id": "b969e06c",
   "metadata": {},
   "source": [
    "### <span style=\"color:Darkcyan\">**Conjunto de datos**</span>"
   ]
  },
  {
   "cell_type": "markdown",
   "id": "61531120",
   "metadata": {},
   "source": [
    "En el aprendizaje profundo es necesario dividir el conjunto de datos en tres subconjuntos:\n",
    "- **Entrenamiento**:\n",
    "  + **Entrenamiento**: El conjunto de entrenamiento se va a utilizar para calibrar nuestra red neuronal, con el fin de estimar los parámetros correctos \n",
    "  + **Validación**: Se utiliza para probar la arquitectura estimada y escoger los hiperparámetros de la red\n",
    "- **Prueba**: Tiene el fin de comprobar el ajuste de la red en un conjunto de datos que jamás vio la red, normalmente para comprobar qu no haya sobreajuste en la red\n",
    "\n",
    "Esta división del conjunto de datos se deber hacer para que al probar la estimación sobre unos datos, sean unos completamente nuevos con el fin de que pueda predecir bien sobre cualquier tipo de dato y no solo sobre los que se entró la red."
   ]
  },
  {
   "cell_type": "markdown",
   "id": "9ed66d36",
   "metadata": {},
   "source": [
    "<img src=\"data:image/png;base64,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\" alt=\"Conjunto de entrenamiento y prueba\" width=\"300\"/>"
   ]
  },
  {
   "cell_type": "markdown",
   "id": "a4c127e4",
   "metadata": {},
   "source": [
    "### <span style=\"color:Darkcyan\">**Parámetros a especificar**</span>"
   ]
  },
  {
   "cell_type": "markdown",
   "id": "4a282861",
   "metadata": {},
   "source": [
    "En la parte superior derecha de la página se encuentra la opción para definir el problema, ya sea un problema de **clasificación** o **regresión**, cuando esto se haya definido en el costado izquierdo de la imagen están las características que se le quiere dar al conjunto de datos a trabajar, tales como:\n",
    "- Conjunto de datos a utilizar\n",
    "- Proporción entre el conjunto de entrenamiento y prueba\n",
    "- Ruido de los datos\n",
    "- Tamaño de los lotes a ingresar en cada época de la red"
   ]
  },
  {
   "cell_type": "markdown",
   "id": "8373ae7b",
   "metadata": {},
   "source": [
    "<img src=\"https://media.licdn.com/dms/image/C5612AQFqMx_j4ldijg/article-inline_image-shrink_1000_1488/0/1596220831167?e=1698883200&v=beta&t=LCFa0Jg1SoY3yoTpmZrvXUygcDj9Hig9GKWE28v_aWc\" alt=\"Playground\" width=\"700\"/>"
   ]
  },
  {
   "cell_type": "markdown",
   "id": "9a549b4b",
   "metadata": {},
   "source": [
    "A continuación se describen los parámetros mostrados en la anterior imagen:\n",
    "- **Época**: número de veces que se ejecutaran los algoritmos de forwardpropagation y backpropagation. En cada ciclo (época) todos los datos de entrenamiento pasan por la red neuronal, de esta manera la red neuronal actualiza más veces los parametros W y b\n",
    "- **Tasa de aprendizaje**: controla el tamaño de las actulizaciones de las ponderaciones, la tasa de aprendizaje afecta a la velocidad a la que el algoritmo llega a las ponderaciones óptimas.\n",
    "- **Función de activación**: se encuentran en cada neurona de una red neuronal y la utilidad más importante que tienen es indicar cuando una neurona se activa o se apaga, dependiendo de la función de activación que se use.\n",
    "- **Regularización**: reduce el valor de los parámetros para que sean pequeños, esta técnica introduce una penalización en la función de pérdida original (L), añadiendo a su valor la suma de los cuadrados de los parámetros (ω).\n",
    "- **Tasa de regularización**: medida con la que penaliza a la función de pérdida, normalmente un valor arbitrario.\n",
    "- **Capa de entrada**: se le especifican las características con las que se quiere alimentar a la red.\n",
    "- **Capas ocultas**: cada una de estas capas contiene neuronas, en una red neuronal tradicional cada una de las neuronas de una capa estan conectadas con todas las neuronas de la siguiente capa.\n",
    "- **Capa de salida**: es la capa que se encarga de entregar los resultados.\n",
    "- **Pérdida en el conjunto de entrenamiento y de prueba**: el valor de la función de pérdida que se alcanza en los conjuntos mencionados."
   ]
  }
 ],
 "metadata": {
  "kernelspec": {
   "display_name": "Python 3",
   "language": "python",
   "name": "python3"
  },
  "language_info": {
   "codemirror_mode": {
    "name": "ipython",
    "version": 3
   },
   "file_extension": ".py",
   "mimetype": "text/x-python",
   "name": "python",
   "nbconvert_exporter": "python",
   "pygments_lexer": "ipython3",
   "version": "3.8.8"
  }
 },
 "nbformat": 4,
 "nbformat_minor": 5
}
